{
 "cells": [
  {
   "cell_type": "code",
   "execution_count": null,
   "id": "137cdbca",
   "metadata": {},
   "outputs": [],
   "source": [
    "import pandas as pd\n",
    "import os\n",
    "\n",
    "# Define the file name\n",
    "file_name = \"Apple Inc Financial Model.xlsx\"\n",
    "\n",
    "# Check if the file exists in the current directory\n",
    "if not os.path.exists(file_name):\n",
    "    print(f\"Error: The file '{file_name}' was not found in the current directory.\")\n",
    "    print(\"Please upload the Excel file to the working directory.\")\n",
    "else:\n",
    "    print(f\"Loading the Excel file: {file_name}\")\n",
    "\n",
    "    # Load the Excel file\n",
    "    xls = pd.ExcelFile(file_name)\n",
    "\n",
    "    # Display available sheets\n",
    "    print(\"\\nAvailable Sheets in the Excel File:\")\n",
    "    for sheet in xls.sheet_names:\n",
    "        print(f\"- {sheet}\")\n",
    "\n",
    "    # Load key sheets (Example: Income Statement)\n",
    "    income_statement = pd.read_excel(xls, sheet_name=\"Income Statement\")\n",
    "    balance_sheet = pd.read_excel(xls, sheet_name=\"Balance Sheet\")\n",
    "    cash_flow = pd.read_excel(xls, sheet_name=\"Cash Flow\")\n",
    "\n",
    "    # Show sample data\n",
    "    print(\"\\n📊 Sample Data from Income Statement:\")\n",
    "    print(income_statement.head())\n",
    "\n",
    "    print(\"\\n📊 Sample Data from Balance Sheet:\")\n",
    "    print(balance_sheet.head())\n",
    "\n",
    "    print(\"\\n📊 Sample Data from Cash Flow Statement:\")\n",
    "    print(cash_flow.head())\n",
    "\n"
   ]
  }
 ],
 "metadata": {
  "kernelspec": {
   "display_name": "Python 3",
   "language": "python",
   "name": "python3"
  },
  "language_info": {
   "codemirror_mode": {
    "name": "ipython",
    "version": 3
   },
   "file_extension": ".py",
   "mimetype": "text/x-python",
   "name": "python",
   "nbconvert_exporter": "python",
   "pygments_lexer": "ipython3",
   "version": "3.12.2"
  }
 },
 "nbformat": 4,
 "nbformat_minor": 5
}
