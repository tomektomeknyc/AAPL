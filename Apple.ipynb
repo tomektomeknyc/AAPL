{
 "cells": [
  {
   "cell_type": "code",
   "execution_count": null,
   "id": "204dd97c",
   "metadata": {},
   "outputs": [],
   "source": [
    "import nbformat\n",
    "\n",
    "with open(\"Apple.ipynb\", \"r\", encoding=\"utf-8\") as f:\n",
    "    notebook_data = f.read()\n",
    "\n",
    "try:\n",
    "    nb = nbformat.reads(notebook_data, as_version=4)\n",
    "    with open(\"Apple_fixed.ipynb\", \"w\", encoding=\"utf-8\") as f_out:\n",
    "        nbformat.write(nb, f_out)\n",
    "    print(\"Notebook successfully fixed and saved as Apple_fixed.ipynb\")\n",
    "except Exception as e:\n",
    "    print(f\"Error: {e}\")\n"
   ]
  }
 ],
 "metadata": {
  "kernelspec": {
   "display_name": "Python 3",
   "language": "python",
   "name": "python3"
  },
  "language_info": {
   "codemirror_mode": {
    "name": "ipython",
    "version": 3
   },
   "file_extension": ".py",
   "mimetype": "text/x-python",
   "name": "python",
   "nbconvert_exporter": "python",
   "pygments_lexer": "ipython3",
   "version": "3.12.2"
  }
 },
 "nbformat": 4,
 "nbformat_minor": 5
}
