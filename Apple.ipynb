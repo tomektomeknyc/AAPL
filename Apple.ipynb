import streamlit as st
import pandas as pd

# Load the Excel file
file_path = "Apple Inc Financial Model.xlsx"  # Ensure this matches your uploaded file name
df = pd.read_excel(file_path)

# Display the data
st.write("## Excel Data Preview")
st.dataframe(df)
